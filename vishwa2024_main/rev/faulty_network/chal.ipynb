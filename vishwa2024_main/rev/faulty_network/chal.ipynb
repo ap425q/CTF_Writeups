{
 "cells": [
  {
   "cell_type": "code",
   "execution_count": 6,
   "metadata": {},
   "outputs": [
    {
     "ename": "RuntimeError",
     "evalue": "Error(s) in loading state_dict for NeuralNetwork:\n\tsize mismatch for fc.weight: copying a param with shape torch.Size([1024, 128]) from checkpoint, the shape in current model is torch.Size([1024, 40]).",
     "output_type": "error",
     "traceback": [
      "\u001b[0;31m---------------------------------------------------------------------------\u001b[0m",
      "\u001b[0;31mRuntimeError\u001b[0m                              Traceback (most recent call last)",
      "Cell \u001b[0;32mIn[6], line 30\u001b[0m\n\u001b[1;32m     27\u001b[0m in_dim\t\u001b[38;5;241m=\u001b[39m \u001b[38;5;28mlen\u001b[39m(in_data)\n\u001b[1;32m     29\u001b[0m model \u001b[38;5;241m=\u001b[39m NeuralNetwork(\u001b[38;5;241m40\u001b[39m, \u001b[38;5;241m1024\u001b[39m)\n\u001b[0;32m---> 30\u001b[0m \u001b[43mmodel\u001b[49m\u001b[38;5;241;43m.\u001b[39;49m\u001b[43mload_state_dict\u001b[49m\u001b[43m(\u001b[49m\u001b[43mtorch\u001b[49m\u001b[38;5;241;43m.\u001b[39;49m\u001b[43mload\u001b[49m\u001b[43m(\u001b[49m\u001b[38;5;124;43m\"\u001b[39;49m\u001b[38;5;124;43mchal.pth\u001b[39;49m\u001b[38;5;124;43m\"\u001b[39;49m\u001b[43m)\u001b[49m\u001b[43m)\u001b[49m\n\u001b[1;32m     32\u001b[0m \u001b[38;5;28;01mif\u001b[39;00m model(in_data) \u001b[38;5;241m==\u001b[39m \u001b[38;5;241m1\u001b[39m:\n\u001b[1;32m     33\u001b[0m \t\u001b[38;5;28mprint\u001b[39m(\u001b[38;5;124m\"\u001b[39m\u001b[38;5;124mYay you did it Good Job!!!\u001b[39m\u001b[38;5;124m\"\u001b[39m)\n",
      "File \u001b[0;32m~/.local/lib/python3.10/site-packages/torch/nn/modules/module.py:2153\u001b[0m, in \u001b[0;36mModule.load_state_dict\u001b[0;34m(self, state_dict, strict, assign)\u001b[0m\n\u001b[1;32m   2148\u001b[0m         error_msgs\u001b[38;5;241m.\u001b[39minsert(\n\u001b[1;32m   2149\u001b[0m             \u001b[38;5;241m0\u001b[39m, \u001b[38;5;124m'\u001b[39m\u001b[38;5;124mMissing key(s) in state_dict: \u001b[39m\u001b[38;5;132;01m{}\u001b[39;00m\u001b[38;5;124m. \u001b[39m\u001b[38;5;124m'\u001b[39m\u001b[38;5;241m.\u001b[39mformat(\n\u001b[1;32m   2150\u001b[0m                 \u001b[38;5;124m'\u001b[39m\u001b[38;5;124m, \u001b[39m\u001b[38;5;124m'\u001b[39m\u001b[38;5;241m.\u001b[39mjoin(\u001b[38;5;124mf\u001b[39m\u001b[38;5;124m'\u001b[39m\u001b[38;5;124m\"\u001b[39m\u001b[38;5;132;01m{\u001b[39;00mk\u001b[38;5;132;01m}\u001b[39;00m\u001b[38;5;124m\"\u001b[39m\u001b[38;5;124m'\u001b[39m \u001b[38;5;28;01mfor\u001b[39;00m k \u001b[38;5;129;01min\u001b[39;00m missing_keys)))\n\u001b[1;32m   2152\u001b[0m \u001b[38;5;28;01mif\u001b[39;00m \u001b[38;5;28mlen\u001b[39m(error_msgs) \u001b[38;5;241m>\u001b[39m \u001b[38;5;241m0\u001b[39m:\n\u001b[0;32m-> 2153\u001b[0m     \u001b[38;5;28;01mraise\u001b[39;00m \u001b[38;5;167;01mRuntimeError\u001b[39;00m(\u001b[38;5;124m'\u001b[39m\u001b[38;5;124mError(s) in loading state_dict for \u001b[39m\u001b[38;5;132;01m{}\u001b[39;00m\u001b[38;5;124m:\u001b[39m\u001b[38;5;130;01m\\n\u001b[39;00m\u001b[38;5;130;01m\\t\u001b[39;00m\u001b[38;5;132;01m{}\u001b[39;00m\u001b[38;5;124m'\u001b[39m\u001b[38;5;241m.\u001b[39mformat(\n\u001b[1;32m   2154\u001b[0m                        \u001b[38;5;28mself\u001b[39m\u001b[38;5;241m.\u001b[39m\u001b[38;5;18m__class__\u001b[39m\u001b[38;5;241m.\u001b[39m\u001b[38;5;18m__name__\u001b[39m, \u001b[38;5;124m\"\u001b[39m\u001b[38;5;130;01m\\n\u001b[39;00m\u001b[38;5;130;01m\\t\u001b[39;00m\u001b[38;5;124m\"\u001b[39m\u001b[38;5;241m.\u001b[39mjoin(error_msgs)))\n\u001b[1;32m   2155\u001b[0m \u001b[38;5;28;01mreturn\u001b[39;00m _IncompatibleKeys(missing_keys, unexpected_keys)\n",
      "\u001b[0;31mRuntimeError\u001b[0m: Error(s) in loading state_dict for NeuralNetwork:\n\tsize mismatch for fc.weight: copying a param with shape torch.Size([1024, 128]) from checkpoint, the shape in current model is torch.Size([1024, 40])."
     ]
    }
   ],
   "source": [
    "import torch\n",
    "\n",
    "def tensorize(s : str) -> torch.Tensor:\n",
    "  return torch.Tensor([(1 if (ch >> i) & 1 == 1 else -1) for ch in list(map(ord, s)) for i in range(8)])\n",
    "\n",
    "class NeuralNetwork(torch.nn.Module):\n",
    "  def __init__(self, in_dimension, mid_dimension, out_dimension=1):\n",
    "    super(NeuralNetwork, self).__init__()\n",
    "    self.fc = torch.nn.Linear(in_dimension, mid_dimension)\n",
    "    self.fc2 = torch.nn.Linear(mid_dimension, out_dimension)\n",
    "\n",
    "  def step_activation(self, x : torch.Tensor) -> torch.Tensor:\n",
    "    x[x <= 0] = -1\n",
    "    x[x >  0] = 1\n",
    "    return x\n",
    "\n",
    "  def forward(self, x : torch.Tensor) -> int:\n",
    "    x = self.fc(x)\n",
    "    x = self.step_activation(x)\n",
    "    x = self.fc2(x)\n",
    "    x = self.step_activation(x)\n",
    "    return int(x)\n",
    "\n",
    "flag = input(\"Enter flag: \")\n",
    "in_data = tensorize(flag)\n",
    "in_dim\t= len(in_data)\n",
    "\n",
    "model = NeuralNetwork(in_dim, 1024)\n",
    "model.load_state_dict(torch.load(\"chal.pth\"))\n",
    "\n",
    "if model(in_data) == 1:\n",
    "\tprint(\"Yay you did it Good Job!!!\")\n",
    "else:\n",
    "\tprint(\"Yay you did it Good Job!!!\")"
   ]
  },
  {
   "cell_type": "code",
   "execution_count": 19,
   "metadata": {},
   "outputs": [
    {
     "name": "stdout",
     "output_type": "stream",
     "text": [
      "odict_keys(['fc.weight', 'fc.bias', 'fc2.weight', 'fc2.bias'])\n",
      "First Linear Layer Weights: torch.Size([1024, 128])\n",
      "First Linear Layer Biases: torch.Size([1024])\n",
      "Second Linear Layer Weights: torch.Size([1, 1024])\n",
      "Second Linear Layer Biases: torch.Size([1])\n"
     ]
    }
   ],
   "source": [
    "import torch\n",
    "\n",
    "def tensorize(s: str) -> torch.Tensor:\n",
    "    return torch.Tensor([(1 if (ch >> i) & 1 == 1 else -1) for ch in list(map(ord, s)) for i in range(8)])\n",
    "\n",
    "checkpoint = torch.load(\"chal.pth\", map_location=torch.device('cpu'))\n",
    "\n",
    "# Inspect the keys of the checkpoint to understand its structure\n",
    "print(checkpoint.keys())\n",
    "\n",
    "# Now let's inspect the weights and biases of the linear layers\n",
    "print(\"First Linear Layer Weights:\", checkpoint['fc.weight'].shape)\n",
    "print(\"First Linear Layer Biases:\", checkpoint['fc.bias'].shape)\n",
    "print(\"Second Linear Layer Weights:\", checkpoint['fc2.weight'].shape)\n",
    "print(\"Second Linear Layer Biases:\", checkpoint['fc2.bias'].shape)\n",
    "\n",
    "# Based on the shape of the weights and biases, try to infer how the model is making decisions\n",
    "\n",
    "# Assuming it's a binary classification problem, craft an input that would result in the desired output\n",
    "# You may need to experiment with different inputs based on your analysis of the weights and biases\n",
    "# For instance, you can try to find an input that would result in the final output being close to 1\n",
    "\n",
    "# Once you have a candidate input, you can convert it to the string representation to get the flag\n",
    "# You may need to reverse the `tensorize` function to convert the tensor back to a string\n",
    "\n",
    "# flag = reverse_tensorize(candidate_input_tensor)\n",
    "# print(\"Flag:\", flag)\n"
   ]
  },
  {
   "cell_type": "code",
   "execution_count": 73,
   "metadata": {},
   "outputs": [
    {
     "ename": "RuntimeError",
     "evalue": "Boolean value of Tensor with more than one value is ambiguous",
     "output_type": "error",
     "traceback": [
      "\u001b[0;31m---------------------------------------------------------------------------\u001b[0m",
      "\u001b[0;31mRuntimeError\u001b[0m                              Traceback (most recent call last)",
      "Cell \u001b[0;32mIn[73], line 25\u001b[0m\n\u001b[1;32m     23\u001b[0m random_input \u001b[38;5;241m=\u001b[39m torch\u001b[38;5;241m.\u001b[39mrandn((\u001b[38;5;241m128\u001b[39m, \u001b[38;5;241m1\u001b[39m))  \u001b[38;5;66;03m# Generate a random input of size 128\u001b[39;00m\n\u001b[1;32m     24\u001b[0m output \u001b[38;5;241m=\u001b[39m predict(random_input)\n\u001b[0;32m---> 25\u001b[0m \u001b[38;5;28;01mif\u001b[39;00m (output \u001b[38;5;241m==\u001b[39m \u001b[38;5;241m1\u001b[39m):  \u001b[38;5;66;03m# If any element of the output is close to 1\u001b[39;00m\n\u001b[1;32m     26\u001b[0m     flag_tensor \u001b[38;5;241m=\u001b[39m random_input\n\u001b[1;32m     27\u001b[0m     \u001b[38;5;28;01mbreak\u001b[39;00m\n",
      "\u001b[0;31mRuntimeError\u001b[0m: Boolean value of Tensor with more than one value is ambiguous"
     ]
    }
   ],
   "source": [
    "import torch\n",
    "\n",
    "def tensorize(s: str) -> torch.Tensor:\n",
    "    return torch.Tensor([(1 if (ch >> i) & 1 == 1 else -1) for ch in list(map(ord, s)) for i in range(8)])\n",
    "\n",
    "checkpoint = torch.load(\"chal.pth\", map_location=torch.device('cpu'))\n",
    "\n",
    "# Define the model architecture based on the loaded checkpoint\n",
    "fc_weight = checkpoint['fc.weight']\n",
    "fc_bias = checkpoint['fc.bias']\n",
    "fc2_weight = checkpoint['fc2.weight']\n",
    "fc2_bias = checkpoint['fc2.bias']\n",
    "\n",
    "# Define a function to make predictions based on the model parameters\n",
    "def predict(input_data):\n",
    "    x = torch.matmul(fc_weight, input_data) + fc_bias\n",
    "    x = torch.relu(x)  # Assuming ReLU activation for the first layer\n",
    "    x = torch.matmul(fc2_weight, x) + fc2_bias\n",
    "    return torch.sigmoid(x)  # Assuming sigmoid activation for the second layer\n",
    "\n",
    "# Generate random inputs and check if any produce an output close to 1\n",
    "for _ in range(1000):  # Try 1000 random inputs\n",
    "    random_input = torch.randn((128, 1))  # Generate a random input of size 128\n",
    "    output = predict(random_input)\n",
    "    if (output == 1):  # If any element of the output is close to 1\n",
    "        flag_tensor = random_input\n",
    "        break\n",
    "\n",
    "# Convert the tensor back to a string representation to get the flag\n",
    "flag = \"\"\n",
    "for i in range(0, len(flag_tensor), 8):\n",
    "    byte = flag_tensor[i:i+8]\n",
    "    char_code = int(\"\".join('1' if bit.item() > 0 else '0' for bit in byte), 2)\n",
    "    flag += chr(char_code)\n",
    "\n",
    "print(\"Flag:\", flag)\n"
   ]
  },
  {
   "cell_type": "code",
   "execution_count": 78,
   "metadata": {},
   "outputs": [
    {
     "ename": "RuntimeError",
     "evalue": "Boolean value of Tensor with more than one value is ambiguous",
     "output_type": "error",
     "traceback": [
      "\u001b[0;31m---------------------------------------------------------------------------\u001b[0m",
      "\u001b[0;31mRuntimeError\u001b[0m                              Traceback (most recent call last)",
      "Cell \u001b[0;32mIn[78], line 26\u001b[0m\n\u001b[1;32m     24\u001b[0m flag_tensor \u001b[38;5;241m=\u001b[39m torch\u001b[38;5;241m.\u001b[39mtensor(bits)\u001b[38;5;241m.\u001b[39munsqueeze(\u001b[38;5;241m1\u001b[39m)\n\u001b[1;32m     25\u001b[0m output \u001b[38;5;241m=\u001b[39m predict(flag_tensor)\n\u001b[0;32m---> 26\u001b[0m \u001b[38;5;28;01mif\u001b[39;00m output \u001b[38;5;241m==\u001b[39m \u001b[38;5;241m1\u001b[39m:  \u001b[38;5;66;03m# If output is exactly 1\u001b[39;00m\n\u001b[1;32m     27\u001b[0m     correct_flag \u001b[38;5;241m=\u001b[39m \u001b[38;5;124m\"\u001b[39m\u001b[38;5;124m\"\u001b[39m\u001b[38;5;241m.\u001b[39mjoin(\u001b[38;5;124m'\u001b[39m\u001b[38;5;124m1\u001b[39m\u001b[38;5;124m'\u001b[39m \u001b[38;5;28;01mif\u001b[39;00m bit\u001b[38;5;241m.\u001b[39mitem() \u001b[38;5;241m>\u001b[39m \u001b[38;5;241m0\u001b[39m \u001b[38;5;28;01melse\u001b[39;00m \u001b[38;5;124m'\u001b[39m\u001b[38;5;124m0\u001b[39m\u001b[38;5;124m'\u001b[39m \u001b[38;5;28;01mfor\u001b[39;00m bit \u001b[38;5;129;01min\u001b[39;00m flag_tensor)\n\u001b[1;32m     28\u001b[0m     \u001b[38;5;28mprint\u001b[39m(\u001b[38;5;124m\"\u001b[39m\u001b[38;5;124mCorrect Flag:\u001b[39m\u001b[38;5;124m\"\u001b[39m, correct_flag)\n",
      "\u001b[0;31mRuntimeError\u001b[0m: Boolean value of Tensor with more than one value is ambiguous"
     ]
    }
   ],
   "source": [
    "import torch\n",
    "import itertools\n",
    "\n",
    "def tensorize(s: str) -> torch.Tensor:\n",
    "    return torch.Tensor([(1 if (ch >> i) & 1 == 1 else -1) for ch in list(map(ord, s)) for i in range(8)])\n",
    "\n",
    "checkpoint = torch.load(\"chal.pth\", map_location=torch.device('cpu'))\n",
    "\n",
    "# Define the model architecture based on the loaded checkpoint\n",
    "fc_weight = checkpoint['fc.weight']\n",
    "fc_bias = checkpoint['fc.bias']\n",
    "fc2_weight = checkpoint['fc2.weight']\n",
    "fc2_bias = checkpoint['fc2.bias']\n",
    "\n",
    "# Define a function to make predictions based on the model parameters\n",
    "def predict(input_data):\n",
    "    x = torch.matmul(fc_weight, input_data.float()) + fc_bias.float()  # Ensure both tensors are of the same dtype\n",
    "    x = torch.relu(x)  # Assuming ReLU activation for the first layer\n",
    "    x = torch.matmul(fc2_weight, x) + fc2_bias  # No need to convert this since fc2_bias is already float type\n",
    "    return torch.sigmoid(x)  # Assuming sigmoid activation for the second layer\n",
    "\n",
    "# Generate all possible combinations of flags\n",
    "for bits in itertools.product([-1, 1], repeat=128):  # Generate all possible combinations of 128 bits\n",
    "    flag_tensor = torch.tensor(bits).unsqueeze(1)\n",
    "    output = predict(flag_tensor)\n",
    "    if output == 1:  # If output is exactly 1\n",
    "        correct_flag = \"\".join('1' if bit.item() > 0 else '0' for bit in flag_tensor)\n",
    "        print(\"Correct Flag:\", correct_flag)\n",
    "        break\n"
   ]
  },
  {
   "cell_type": "code",
   "execution_count": null,
   "metadata": {},
   "outputs": [],
   "source": []
  },
  {
   "cell_type": "code",
   "execution_count": null,
   "metadata": {},
   "outputs": [],
   "source": []
  },
  {
   "cell_type": "code",
   "execution_count": null,
   "metadata": {},
   "outputs": [],
   "source": []
  },
  {
   "cell_type": "code",
   "execution_count": null,
   "metadata": {},
   "outputs": [],
   "source": []
  }
 ],
 "metadata": {
  "kernelspec": {
   "display_name": "Python 3 (ipykernel)",
   "language": "python",
   "name": "python3"
  },
  "language_info": {
   "codemirror_mode": {
    "name": "ipython",
    "version": 3
   },
   "file_extension": ".py",
   "mimetype": "text/x-python",
   "name": "python",
   "nbconvert_exporter": "python",
   "pygments_lexer": "ipython3",
   "version": "3.10.12"
  }
 },
 "nbformat": 4,
 "nbformat_minor": 4
}
